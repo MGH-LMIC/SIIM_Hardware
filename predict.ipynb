{
 "cells": [
  {
   "cell_type": "code",
   "execution_count": 5,
   "metadata": {},
   "outputs": [],
   "source": [
    "import os, torch\n",
    "from torchvision import models, transforms\n",
    "from PIL import Image\n",
    "\n",
    "class Hardware_detection:\n",
    "    def __init__(self):\n",
    "        self.classes = {0: \"Hardware\",\n",
    "                        1: \"No hardware\"\n",
    "                       }\n",
    "        self.num_classes = len(self.classes)\n",
    "        self.device = torch.device(\"cuda\" if torch.cuda.is_available() else \"cpu\")\n",
    "        model = models.squeezenet1_0()\n",
    "        model.classifier[1] = torch.nn.Conv2d(512, self.num_classes, kernel_size=(1,1), stride=(1,1))\n",
    "        best_model_wts = torch.load(\"hardware_pretrained_1.2.1.pt\", map_location=self.device)\n",
    "        model.load_state_dict(best_model_wts)\n",
    "        model.to(self.device)\n",
    "        model.eval()\n",
    "        self.model = model\n",
    "        self.transform = transforms.Compose([transforms.Resize((224,224)),\n",
    "                                             transforms.ToTensor(),\n",
    "                                            ])\n",
    "        \n",
    "    \n",
    "    def predict(self, image_url):\n",
    "        image = Image.open(image_url).convert('RGB')\n",
    "        x = self.transform(image)\n",
    "        x = x.unsqueeze(0)\n",
    "        x = x.to(self.device)\n",
    "        y = self.model(x)\n",
    "        _, preds = torch.max(y, 1)\n",
    "        return self.classes[int(preds)]\n",
    "    \n",
    "    def \n",
    "    "
   ]
  },
  {
   "cell_type": "code",
   "execution_count": 6,
   "metadata": {},
   "outputs": [
    {
     "name": "stdout",
     "output_type": "stream",
     "text": [
      "File: 33.jfif\tPrediction: No hardware\n",
      "File: 2.jpg\tPrediction: Hardware\n",
      "File: 32.jfif\tPrediction: No hardware\n",
      "File: 34.jfif\tPrediction: No hardware\n",
      "File: 3.png\tPrediction: Hardware\n",
      "File: 31.jfif\tPrediction: Hardware\n",
      "File: 12.jpg\tPrediction: Hardware\n",
      "File: 10.jpg\tPrediction: No hardware\n",
      "File: 6.jfif\tPrediction: No hardware\n",
      "File: 8.jpg\tPrediction: No hardware\n",
      "File: 35.jfif\tPrediction: Hardware\n",
      "File: 13.jpg\tPrediction: Hardware\n",
      "File: 9.jpg\tPrediction: No hardware\n",
      "File: 36.jfif\tPrediction: No hardware\n",
      "File: 7.jfif\tPrediction: No hardware\n"
     ]
    }
   ],
   "source": [
    "def demo_run():\n",
    "    HW = Hardware_detection()\n",
    "    for file_name in os.listdir(\"images\"):\n",
    "        predict = HW.predict(os.path.join(\"images\",file_name))\n",
    "        print(f\"File: {file_name}\\tPrediction: {predict}\")\n",
    "\n",
    "if __name__ == \"__main__\":\n",
    "    demo_run()"
   ]
  },
  {
   "cell_type": "code",
   "execution_count": null,
   "metadata": {},
   "outputs": [],
   "source": []
  }
 ],
 "metadata": {
  "kernelspec": {
   "display_name": "Python 3",
   "language": "python",
   "name": "python3"
  },
  "language_info": {
   "codemirror_mode": {
    "name": "ipython",
    "version": 3
   },
   "file_extension": ".py",
   "mimetype": "text/x-python",
   "name": "python",
   "nbconvert_exporter": "python",
   "pygments_lexer": "ipython3",
   "version": "3.6.9"
  }
 },
 "nbformat": 4,
 "nbformat_minor": 4
}
