{
 "cells": [
  {
   "cell_type": "code",
   "execution_count": 7,
   "metadata": {},
   "outputs": [],
   "source": [
    "import os, torch\n",
    "from torchvision import models, transforms\n",
    "from PIL import Image\n",
    "\n",
    "class Hardware_detection:\n",
    "    def __init__(self):\n",
    "        self.classes = {0: \"Hardware\",\n",
    "                        1: \"Non hardware\"\n",
    "                       }\n",
    "        self.num_classes = len(self.classes)\n",
    "        model = models.squeezenet1_0()\n",
    "        model.classifier[1] = torch.nn.Conv2d(512, self.num_classes, kernel_size=(1,1), stride=(1,1))\n",
    "        best_model_wts = torch.load(\"ankle_hardware_pretrained_1.2.1.pt\")\n",
    "        model.load_state_dict(best_model_wts)\n",
    "        model.eval()\n",
    "        self.model = model\n",
    "        self.transform = transforms.Compose([transforms.Resize((224,224)),\n",
    "                                             transforms.ToTensor(),\n",
    "                                            ])\n",
    "        \n",
    "    \n",
    "    def predict(self, image_url):\n",
    "        image = Image.open(image_url).convert('RGB')\n",
    "        x = self.transform(image)\n",
    "        x = x.unsqueeze(0)\n",
    "        y = self.model(x)\n",
    "        _, preds = torch.max(y, 1)\n",
    "        return self.classes[int(preds)]\n",
    "    "
   ]
  },
  {
   "cell_type": "code",
   "execution_count": 8,
   "metadata": {},
   "outputs": [
    {
     "name": "stdout",
     "output_type": "stream",
     "text": [
      "33.jfif Non hardware\n",
      "2.jpg Hardware\n",
      "32.jfif Non hardware\n",
      "34.jfif Non hardware\n",
      "3.png Hardware\n",
      "31.jfif Hardware\n",
      "12.jpg Hardware\n",
      "10.jpg Non hardware\n",
      "6.jfif Non hardware\n",
      "8.jpg Non hardware\n",
      "35.jfif Hardware\n",
      "13.jpg Hardware\n",
      "9.jpg Non hardware\n",
      "36.jfif Non hardware\n",
      "7.jfif Non hardware\n"
     ]
    }
   ],
   "source": [
    "def demo_run():\n",
    "    HW = Hardware_detection()\n",
    "    for file_name in os.listdir(\"images\"):\n",
    "        predict = HW.predict(os.path.join(\"images\",file_name))\n",
    "        print(file_name, predict)\n",
    "\n",
    "if __name__ == \"__main__\":\n",
    "    demo_run()"
   ]
  },
  {
   "cell_type": "code",
   "execution_count": null,
   "metadata": {},
   "outputs": [],
   "source": []
  },
  {
   "cell_type": "code",
   "execution_count": null,
   "metadata": {},
   "outputs": [],
   "source": []
  }
 ],
 "metadata": {
  "kernelspec": {
   "display_name": "Python 3",
   "language": "python",
   "name": "python3"
  },
  "language_info": {
   "codemirror_mode": {
    "name": "ipython",
    "version": 3
   },
   "file_extension": ".py",
   "mimetype": "text/x-python",
   "name": "python",
   "nbconvert_exporter": "python",
   "pygments_lexer": "ipython3",
   "version": "3.6.9"
  }
 },
 "nbformat": 4,
 "nbformat_minor": 4
}
